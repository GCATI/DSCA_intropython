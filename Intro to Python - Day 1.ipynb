{
 "cells": [
  {
   "cell_type": "markdown",
   "metadata": {},
   "source": [
    "<div class=\"row\">\n",
    "    <div class=\"column\">\n",
    "        <img src=\"https://datasciencecampus.ons.gov.uk/wp-content/uploads/sites/10/2017/03/data-science-campus-logo-new.svg\"\n",
    "             alt=\"Data Science Campus Logo\"\n",
    "             align=\"right\" \n",
    "             width = \"340\"\n",
    "             style=\"margin: 0px 60px\"\n",
    "             />\n",
    "    </div>\n",
    "    <div class=\"column\">\n",
    "        <img src=\"https://cdn.ons.gov.uk/assets/images/ons-logo/v2/ons-logo.svg\"\n",
    "             alt=\"ONS Logo\"\n",
    "             align=\"left\" \n",
    "             width = \"420\"\n",
    "             style=\"margin: 0px 30px\"/>\n",
    "    </div>\n",
    "</div>"
   ]
  },
  {
   "cell_type": "markdown",
   "metadata": {},
   "source": [
    "# Introduction to Python: Day 1\n",
    "\n",
    "## Trainers\n",
    "\n",
    "<font size=\"+0.5\">Jhai Ghaghada</font>   \n",
    "(<jhai.ghaghada@ons.gov.uk>)  \n",
    "<font size=\"+0.5\">Daniel Lewis</font>   \n",
    "(<daniel.j.lewis@ons.gov.uk>)  "
   ]
  },
  {
   "cell_type": "markdown",
   "metadata": {},
   "source": [
    "## Table of Contents\n",
    "<a href=\"#Background\"><font size=\"+1\">Background</font></a>\n",
    "* Learning Objectives\n",
    "* Working with Python\n",
    "* Jupyter Notebooks  \n",
    "* Markdown\n",
    "\n",
    "<a href=\"#Basic-Python\"><font size=\"+1\">Basic Python</font></a>\n",
    "* Numeric Values\n",
    "* Text Values\n",
    "* Logical Values\n",
    "* Casting (Type Conversions) in Python\n",
    "* Variable Assignment\n",
    "\n",
    "<a href=\"#Python-Objects\"><font size=\"+1\">Python Objects</font></a>\n",
    "* Lists\n",
    "* Tuples\n",
    "* Accessing Values in Lists and Tuples\n",
    "* Dictionaries\n",
    "* Keeping Track of Objects\n",
    "* General Purpose Objects\n",
    "\n",
    "<a href=\"#The-Pandas-Library---Objects-for-Data-Science\"><font size=\"+1\">The Pandas Library - Objects for Data Science</font></a>\n",
    "* Series Objects\n",
    "* DataFrame Objects\n",
    "* Importing Python Modules (pandas)\n",
    "* Setting a Working Directory\n",
    "* Reading in Data\n",
    "* Exploring the Data\n",
    "* Getting Help\n",
    "\n",
    "<a href=\"#Consolidation\"><font size=\"+1\">Consolidation</font></a>\n",
    "* Today's Learning Objectives\n",
    "* Plan For Day 2"
   ]
  },
  {
   "cell_type": "markdown",
   "metadata": {},
   "source": [
    "# Background\n",
    "\n",
    "\n",
    "## Learning objectives\n",
    "\n",
    "The goal of this session is to:\n",
    "\n",
    "* Familiarise yourself with the Jupyter notebook, which is what we'll use to interact with python\n",
    "* Be able to describe Python's basic data types - integers, floats, strings and Booleans.\n",
    "* Explore python's general data structure objects - lists, tuples, and dictionaries.\n",
    "* Be able to write simple statements in Python for sequence, selection and iteration\n",
    "* Take a first look at 'pandas', python's data manipulation and analysis library.\n",
    "    * The Series and DataFrame objects.\n",
    "    * Reading data into python using pandas.\n",
    "    * Getting information about DataFrames.\n",
    "    \n",
    "\n",
    "## Working with python\n",
    "\n",
    "Python is:\n",
    "\n",
    "* A general purpose programming language which has been designed for readability. \n",
    "* Created by Guido Van Rossum who chose the name (refering to Monty Python) to indicate that Python should be fun to use.\n",
    "* Python is interoperable across multiple computing platforms (e.g. Windows, Mac, Linux)\n",
    "* Used by many people, giving it a large user base.\n",
    "* Open-source - It is much more cost effective and easier to maintain than SAS and SPSS\n",
    "* Extensible - A broad range of modules: Data Management, Visualisation, Statistics, Machine Learning, Scientific Computing...\n",
    "* High-level - Concise expressions compared to low-level languages (e.g. c, java etc.) giving greater productivity.\n",
    "\n",
    "There are a number of different ways of interacting with python, in fact your anaconda install gives you three different options:\n",
    "* Jupyter notebook - a straightforward browser-based interactive python environment great for data analysis tasks.\n",
    "* IPython qtconsole - a stripped-down, command line python application, suitable for more advanced users. \n",
    "* Spyder - a python IDE (integrated development environment), for fully-featured software development."
   ]
  },
  {
   "cell_type": "code",
   "execution_count": null,
   "metadata": {},
   "outputs": [],
   "source": [
    "# Execute this code cell for the 'zen' of python\n",
    "import this"
   ]
  },
  {
   "cell_type": "markdown",
   "metadata": {},
   "source": [
    "## Jupyter Notebooks\n",
    "\n",
    "You're going to be using Jupyter 'notebooks' in this training, because they allow you to author and execute: python code to perform data analysis tasks; and, descriptive material to support the code, using a simple language called 'markdown'.\n",
    "\n",
    "Jupyter Notebook gives the opportunity to combine code and description in a single human-readable notebook. You can conduct analysis and give interpretation side-by-side. \n",
    "\n",
    "This means that your entire analytical approach can be documented together, from raw data input to analysis model outputs, and from initial assumptions to interpretation of results and conclusions. This also means that notebooks are great for sharing analysis, as the approach taken can be clearly and transparently documented both in code, with supporting text.\n",
    "\n",
    "### Working with notebooks\n",
    "\n",
    "* **Creating New Notebooks** - Navigate to where you'd like to create a new notebook, select the 'New &#9660;' button towards the top-right of the screen and choose 'Python 3', this will open a new, untitled notebook in a new tab.\n",
    "\n",
    "***Basic tools***\n",
    "\n",
    "* **Saving Notebooks** File -> Save and Checkpoint, or click the save icon (the floppy disk), or Ctrl + s.\n",
    " * Notebooks are saved into your user area (e.g C:/Users/[YourName]) by default\n",
    " \n",
    "\n",
    "* **(re)Naming Notebooks** Just click on the title (e.g. 'Intro_to_Python_1.1', 'Untitled' etc.) at the top of the page and type the name you'd like. This will be used to save the notebook, as the chosen name + '.ipynb' (ipython notebook, the file type).\n",
    "\n",
    "\n",
    "* **Adding New Cells** Either click the **+** button, or use insert -> Insert Cell Above/Below.\n",
    "\n",
    "Importantly, there are two types of cell you should be aware of: code cells, and markdown cells.\n",
    "\n",
    "* **Code Cells** are what you type python code into.\n",
    "* **Markdown Cells** are where you write supporting text, equations etc.\n",
    "\n",
    "You can toggle between Code and Markdown cells (and others that we won't cover here) using the drop-down box on the toolbar above.\n",
    "\n",
    "Finally, it is useful to mention that notebooks have 2 'modes': edit mode and command mode.\n",
    "\n",
    "* A cell in **Edit Mode** has a green border and a cursor in the cell indicating that you can write in the cell.\n",
    "* A cell in **Command Mode** has a blue border, this indicates that you are not editing a specific cell, but instead allows you to control the properties of the whole notebook using keyboard shortcuts.\n",
    "\n",
    "Most of the time you'll be using edit mode, this is the default when you click into a cell and start typing code. Command mode is really for more advanced users who have memorised some of the notebook keyboard shortcuts. To enter command mode, you can either click outside of the cell space (i.e. on the grey border space), or press Esc when you are editing a cell.\n",
    "\n",
    "Speaking of which, you can see all the keyboard shortcuts, and get other help on notebooks from Help in the menu bar above. Try Help -> Keyboard Shortcuts."
   ]
  },
  {
   "cell_type": "markdown",
   "metadata": {},
   "source": [
    "# Markdown\n",
    "\n",
    "Markdown is what we've used to produce all the descriptive text in this notebook. \n",
    "\n",
    "Markdown is a really simple 'markup' language. This means that you can write in plain text and provide some formatting instructions which change how the text is displayed once the cell is executed. Here are a few pointers on how to use it to create your own markdown supporting text.\n",
    "\n",
    "* Try creating a new cell and make it a 'Markdown' cell using the drop-down box on the toolbar at the top of the notebook.\n",
    "* Then, type some text in and then press Ctrl + Enter. See have executing the cell renders the text?\n",
    "\n",
    "There are a range of ways you can decorate plain text to produce formatted text when executed. Try:\n",
    "\n",
    "* Putting 1. or more # at the start of a line, then typing after it (e.g. ### A third level header)\n",
    "* Surrounding a word or phrase with asterisks, e.g. \\*hello world\\*\n",
    "* What about two asterisks? e.g. \\*\\*hello world\\*\\*\n",
    "* Try creating a bullet list by starting a line with an asterisk (e.g. * item 1) or a numbered list (e.g. 1. item 1)\n",
    "\n",
    "There's loads that Markdown can represent, including embedding images and equations ($a^{2} + b^{2} = c^{2}$). From the toolbar choose Help -> Markdown to see some detailed information on using Markdown.\n",
    "\n",
    "You can edit existing Markdown too, just double-click into the cell, amend it, and then Ctrl-Enter or Shift-Enter to remake the output."
   ]
  },
  {
   "cell_type": "markdown",
   "metadata": {},
   "source": [
    "# Basic Python\n",
    "\n",
    "## Entering Values in a Notebook Cell\n",
    "\n",
    "We can use Python as a basic calculator by entering values into the cells. This doesn't store any of the information, other than in the notebook cell, rather you're just passing information to the python interpreter and receiving an answer.\n",
    "\n",
    "## Numeric Values\n",
    "\n",
    "Python has  - \n",
    "* ints (integers, whole numbers) e.g 6, 12, 100000, 8960005060030102\n",
    "* floats (floating-point numbers, decimal numbers) e.g 3.4, 7.8, 3.14, 98.99997\n",
    "\n",
    "We can use mathematical expressions\n",
    "\n",
    "* \\+ for addition\n",
    "* \\- for subtraction\n",
    "* \\* for multiplication\n",
    "* / for division\n",
    "* \\*\\* for powers and roots\n",
    "\n",
    "Plus, loads of other useful operators, including:\n",
    "\n",
    "* () Brackets for order of operations  \n",
    "* % modulo - remainder in integer division (e.g. 11%4 = 3, because 11 fully divides by 4 twice, with 3 (of 4) remaining)  \n",
    "* // Floor Division (Rounds down to the nearest integer, e.g. 12/5 = 2.4 but 12//4 = 2)\n",
    "\n",
    "And, some built-in functions:\n",
    "* `abs(`_number_`)` - get the absolute value of a number.\n",
    "* `divmod(`_dividend_, _divisor_`)` - get the quotient and remainder from integer division. Combines floor division and modulo.\n",
    "* `pow(`_number_, _power_`)` - function version of _number_\\*\\*_power_\n",
    "* `round(`_number_, _ndigits_`)` - round a floating-point number to _ndigits_ number of decimal places."
   ]
  },
  {
   "cell_type": "code",
   "execution_count": null,
   "metadata": {
    "collapsed": true
   },
   "outputs": [],
   "source": [
    "# Addition of ints (produces an int)\n"
   ]
  },
  {
   "cell_type": "code",
   "execution_count": null,
   "metadata": {},
   "outputs": [],
   "source": []
  },
  {
   "cell_type": "code",
   "execution_count": null,
   "metadata": {
    "collapsed": true
   },
   "outputs": [],
   "source": [
    "abs(34.6)"
   ]
  },
  {
   "cell_type": "code",
   "execution_count": null,
   "metadata": {
    "collapsed": true
   },
   "outputs": [],
   "source": [
    "# Addition of Floats (produces a float)\n"
   ]
  },
  {
   "cell_type": "code",
   "execution_count": null,
   "metadata": {
    "collapsed": true
   },
   "outputs": [],
   "source": []
  },
  {
   "cell_type": "code",
   "execution_count": null,
   "metadata": {
    "collapsed": true
   },
   "outputs": [],
   "source": [
    "# Addition of Ints and Floats (produces...?)\n"
   ]
  },
  {
   "cell_type": "code",
   "execution_count": null,
   "metadata": {},
   "outputs": [],
   "source": []
  },
  {
   "cell_type": "markdown",
   "metadata": {},
   "source": [
    "## Text Values\n",
    "\n",
    "In python, we refer to text as 'string' data, this is because they are sequences of characters strung together.\n",
    "* Strings are ordered sequences of characters (letters, numbers, punctuation, whitespace and other special symbols).\n",
    "* Strings needs to be enclosed in apostrophes (' ') or quotation marks (\" \")\n",
    "    * It doesn't matter which, so long as you're consistent. You can't start with ' and end with \"!\n",
    "    * 'hello world!' is the same as \"hello world!\"\n",
    "\n",
    "Strings can be manipulated with some arithmetic operators:\n",
    "* \\+ concatenates strings (joins them together).\n",
    "* \\* repeats a given string *n* times.\n",
    "\n",
    "Strings are *objects* and so have a number of built-in *methods* for manipulating them.\n",
    "* Use a '.' to access the string object's methods, e.g.\n",
    "    * *string*`.lower()` transforms a string to all lowercase.\n",
    "    * *string*`.upper()` transforms a string to all UPPERCASE.\n",
    "    * *string*`.title()` transforms a string to Title Case.\n",
    "* Some string methods require parameters, e.g.\n",
    "    * *string*`.count('a')` counts the number of 'a'characters in the string, returning an integer.\n",
    "    * *string*`.replace(\" \",\"_\")` replaces any spaces in the string with underscores. \n",
    "\n",
    "There are loads more string methods, see: https://docs.python.org/3/library/stdtypes.html#string-methods for more info."
   ]
  },
  {
   "cell_type": "code",
   "execution_count": 58,
   "metadata": {},
   "outputs": [],
   "source": [
    "# Enter a string here with quotation marks \"\"\n"
   ]
  },
  {
   "cell_type": "code",
   "execution_count": null,
   "metadata": {
    "collapsed": true
   },
   "outputs": [],
   "source": [
    "# Now with apostrophes ''\n"
   ]
  },
  {
   "cell_type": "code",
   "execution_count": null,
   "metadata": {
    "collapsed": true
   },
   "outputs": [],
   "source": [
    "# We can use the + symbol here too - but it works differently!\n",
    "\"Data\" + \" Science \" + \"Campus\""
   ]
  },
  {
   "cell_type": "code",
   "execution_count": null,
   "metadata": {
    "collapsed": true
   },
   "outputs": [],
   "source": [
    "# Multiplication too!\n",
    "\"ONS\" * 5"
   ]
  },
  {
   "cell_type": "code",
   "execution_count": null,
   "metadata": {
    "collapsed": true
   },
   "outputs": [],
   "source": [
    "#.lower()\n",
    "'ONS'.lower()"
   ]
  },
  {
   "cell_type": "code",
   "execution_count": null,
   "metadata": {
    "collapsed": true
   },
   "outputs": [],
   "source": [
    "#.upper()\n",
    "'ons'.upper()"
   ]
  },
  {
   "cell_type": "code",
   "execution_count": null,
   "metadata": {
    "collapsed": true
   },
   "outputs": [],
   "source": [
    "#.count()\n",
    "'ons'.count('o')"
   ]
  },
  {
   "cell_type": "code",
   "execution_count": null,
   "metadata": {
    "collapsed": true
   },
   "outputs": [],
   "source": [
    "#.replace()\n",
    "'ons'.replace('o','0')"
   ]
  },
  {
   "cell_type": "markdown",
   "metadata": {},
   "source": [
    "## Logical Values\n",
    "\n",
    "Logical values or \"Boolean values\" (NB Boolean is capitalised as it refers to logician George Boole).\n",
    "\n",
    "In python these are written as `True` and `False`.\n",
    "\n",
    "They are special python data types - not strings! So they don't need ' ' or \" \" around them.\n",
    "\n",
    "They also have numerics behind them - True is 1 and False is 0."
   ]
  },
  {
   "cell_type": "code",
   "execution_count": 4,
   "metadata": {},
   "outputs": [
    {
     "name": "stdout",
     "output_type": "stream",
     "text": [
      "Enter a two value: 5, 6\n"
     ]
    }
   ],
   "source": [
    "x, y = input(\"Enter a two value: \").split() "
   ]
  },
  {
   "cell_type": "code",
   "execution_count": 7,
   "metadata": {},
   "outputs": [
    {
     "data": {
      "text/plain": [
       "20.2"
      ]
     },
     "execution_count": 7,
     "metadata": {},
     "output_type": "execute_result"
    }
   ],
   "source": [
    "round(pow(9, 2)/pow(2,2),1)"
   ]
  },
  {
   "cell_type": "code",
   "execution_count": null,
   "metadata": {},
   "outputs": [],
   "source": [
    "print(pow(10, 2)/pow(2,2))"
   ]
  },
  {
   "cell_type": "code",
   "execution_count": null,
   "metadata": {},
   "outputs": [],
   "source": [
    "print (a,b)"
   ]
  },
  {
   "cell_type": "code",
   "execution_count": null,
   "metadata": {},
   "outputs": [],
   "source": [
    "3+4"
   ]
  },
  {
   "cell_type": "code",
   "execution_count": null,
   "metadata": {},
   "outputs": [],
   "source": [
    "# You can add them together\n",
    "\n",
    "True + True"
   ]
  },
  {
   "cell_type": "code",
   "execution_count": null,
   "metadata": {
    "collapsed": true
   },
   "outputs": [],
   "source": [
    "# In fact you can attempt any arithmetic operations with booleans\n",
    "# This owes to their underlying numeric value of either 1 or 0.\n",
    "True * 2.5"
   ]
  },
  {
   "cell_type": "code",
   "execution_count": null,
   "metadata": {
    "collapsed": true
   },
   "outputs": [],
   "source": [
    "# Try testing True and True or False and False\n"
   ]
  },
  {
   "cell_type": "code",
   "execution_count": null,
   "metadata": {
    "collapsed": true
   },
   "outputs": [],
   "source": [
    "# Try testing False and True\n",
    "True and False"
   ]
  },
  {
   "cell_type": "markdown",
   "metadata": {},
   "source": [
    "# Exercise 1\n",
    "\n",
    "\n",
    "1. Take 2 integers and multiply. Print the result.\n",
    "\n",
    "2. Divide 9 raised to the power 2 divided by 2 raised to the power 2. Use the '/' for divide and round to 1 decimal place.\n",
    "\n",
    "3. Find remainder of division, 91 divided by 2.\n",
    "\n",
    "4. Using the string 'Department for International Developemnt\".\n",
    "\n",
    "Lowercase the whole string\n",
    "Count the number of times the letter 'd' is used in the string\n",
    "Replace 'department' with 'dept'\n",
    "\n",
    "5. Generate 2 random numbers using the randrange method from the random library, add them and print output.\n",
    "\n",
    "For example <br>\n",
    "*import random*<br>\n",
    "*print(random.randrange(3, 9))* <br>"
   ]
  },
  {
   "cell_type": "markdown",
   "metadata": {},
   "source": [
    "## Casting (Type Conversion) in python\n",
    "\n",
    "Python doesn't require you to set the data type when you create it, instead it figures out what the best data type is for the object you are creating - int, float, string, Boolean etc.\n",
    "\n",
    "Sometimes you want to ensure that a particular object is actually a certain type, rather than leaving it up to python. This is does via casting. Python has a range of in-built functions that enable you to cast data from one type to another.\n",
    "\n",
    "Firstly, the `type()` function will tell you what a given object is.\n",
    "\n",
    "Then, if it is allowed, you can convert that object to a specific data type using:\n",
    "* `int()`\n",
    "* `float()`\n",
    "* `str()`\n",
    "* `bool()`\n",
    "\n",
    "Obviously, you can't turn strings into numbers, unless the string in question is a numeric value stored as a string (e.g. '3' instead of 3).\n",
    "\n",
    "Some transformations make sense, ints into floats and vice versa.\n",
    "\n",
    "However, try turning numbers and text into Booleans, or make `True` or `False` a string, what do you think will happen? "
   ]
  },
  {
   "cell_type": "code",
   "execution_count": null,
   "metadata": {
    "collapsed": true
   },
   "outputs": [],
   "source": [
    "# Learn the type of different objects\n",
    "type(True)"
   ]
  },
  {
   "cell_type": "code",
   "execution_count": null,
   "metadata": {
    "collapsed": true
   },
   "outputs": [],
   "source": [
    "# Int from whole number float\n",
    "int(4.0)"
   ]
  },
  {
   "cell_type": "code",
   "execution_count": null,
   "metadata": {
    "collapsed": true
   },
   "outputs": [],
   "source": [
    "# Int from decimal number float\n",
    "int(7.8)"
   ]
  },
  {
   "cell_type": "code",
   "execution_count": null,
   "metadata": {
    "collapsed": true
   },
   "outputs": [],
   "source": [
    "# Float from int\n",
    "float(7)"
   ]
  },
  {
   "cell_type": "code",
   "execution_count": null,
   "metadata": {
    "collapsed": true
   },
   "outputs": [],
   "source": [
    "# int from string\n",
    "int('5')"
   ]
  },
  {
   "cell_type": "code",
   "execution_count": null,
   "metadata": {
    "collapsed": true
   },
   "outputs": [],
   "source": [
    "# float from string\n",
    "float(\"5.6\")"
   ]
  },
  {
   "cell_type": "code",
   "execution_count": null,
   "metadata": {
    "collapsed": true
   },
   "outputs": [],
   "source": [
    "# Try to find some transformation that python doesn't like.\n"
   ]
  },
  {
   "cell_type": "markdown",
   "metadata": {},
   "source": [
    "## Variable Assignment\n",
    "\n",
    "* Variables store data values under a specific name:\n",
    "    * `name = 'Laura'` - here the variable `name` is storing the string `'Laura'`.\n",
    "    * `age = 21` - here the variable `age` is storing the integer `21`.\n",
    "    * `height = 1.80` - here the variable height is storing the float `1.80`.\n",
    "* Variables have to be assigned. Assignment is done with the `=` (equals) sign.\n",
    "* Once created, using a variable means getting the value of whatever it is storing.\n",
    "    * Inputting `height` into python will return `1.80` until the variable is either changed or deleted.\n",
    "* We can change the value of variables at any point by assigning it a new value.\n",
    "    * `height = 1.75` - reassigns the height variable to the value `1.75`\n",
    "    * `height = \"egg\"` - reassigns the height variable to the value `\"egg\"`\n",
    "    * `del height` - deletes the height variable, it is no longer in python's memory.\n",
    "* Variable names are case sensitive\n",
    "* Variable names can't start with a number (must start with an _ or a letter)\n",
    "* Can't use reserved words - like ` True, Class, Yield` which already mean something to python.\n",
    "* Should be descriptive (ideally).\n",
    "* Can be any length - but should be sensible!\n",
    "* Can look like this\n",
    "    * norwegianblue (lowercase)\n",
    "    * NORWEGIANBLUE (UPPERCASE)\n",
    "    * norwegianBlue (camelCase)\n",
    "    * NorwegianBlue (UpperCamelCase)\n",
    "    * norwegian_blue (snake_case, can also be Norwegian_Blue"
   ]
  },
  {
   "cell_type": "code",
   "execution_count": null,
   "metadata": {
    "collapsed": true
   },
   "outputs": [],
   "source": [
    "# Let's create some variables.\n"
   ]
  },
  {
   "cell_type": "code",
   "execution_count": null,
   "metadata": {},
   "outputs": [],
   "source": [
    "name = ''\n",
    "surname = \"\"\n",
    "print(name + \" \" + surname)"
   ]
  },
  {
   "cell_type": "code",
   "execution_count": null,
   "metadata": {
    "collapsed": true
   },
   "outputs": [],
   "source": [
    "name = input(\"Please enter your name\")\n",
    "print (\"Welcome to the Introduction to Python course\", name)"
   ]
  },
  {
   "cell_type": "code",
   "execution_count": null,
   "metadata": {
    "collapsed": true
   },
   "outputs": [],
   "source": [
    "#view some attributes of the string\n",
    "print (type(name))\n",
    "print (len(name))"
   ]
  },
  {
   "cell_type": "code",
   "execution_count": null,
   "metadata": {},
   "outputs": [],
   "source": [
    "#this does not work as string are immutable\n",
    "word = 'analyse'\n",
    "word[5]= 'z'"
   ]
  },
  {
   "cell_type": "code",
   "execution_count": null,
   "metadata": {},
   "outputs": [],
   "source": [
    "#do this instead\n",
    "word.replace('s','z')\n",
    "word = 'analyze'"
   ]
  },
  {
   "cell_type": "code",
   "execution_count": null,
   "metadata": {},
   "outputs": [],
   "source": [
    "#string manipulation\n",
    "print(word[0])\n",
    "print (word[0:3])\n",
    "print(word[:3])\n",
    "print(word[:-2])\n",
    "print (word[:])\n",
    "print(word[-2:])"
   ]
  },
  {
   "cell_type": "markdown",
   "metadata": {},
   "source": [
    "# Exercise 2\n",
    "\n",
    "1. Pick an English word of your choice, put it into a suitably named string and print out last 3 characters. \n",
    "\n",
    "2.   What is the output of the following code ? Print out the length of word2.\n",
    "\n",
    "    word2 = \"pynative\"\n",
    "    print (word2[1:3])\n",
    "    \n",
    "   \n",
    "3. Check that the letter 'y' is in word 'pynative'\n",
    "\n",
    "4. Find the length of word2 and conver to string.\n",
    "\n",
    "5. Extract the word 'office from 'foreign office' and concatenate with 'national statistics'. <br>\n",
    "   Put each of these phrases in suitably names variables and ensure that the first letter of each word <br>\n",
    "   is capitalised."
   ]
  },
  {
   "cell_type": "markdown",
   "metadata": {},
   "source": [
    "# Python Objects\n",
    "\n",
    "Object is the general name for data types, data structures, functions and so on that python stores in memory and references with an identifier. Technically, an object is a specific instance of a 'class', which is an abstract template for a data type, data structure etc. A class is a pattern for creating new objects that can be reused and extended.\n",
    "\n",
    "```python\n",
    "days_list = [\"Mon\", \"Tues\", \"Weds\", \"Thurs\", \"Fri\", \"Sat\", \"Sun\"]\n",
    "```\n",
    "`days_list` is the identifier for a python 'list' data structure (object) that in this case stores some text values.\n",
    "\n",
    "All objects have properties and methods, which relate to data that the object stores and behaviours (procedures) that can be performed on the object to get a specific output.\n",
    "\n",
    "Accessing the properties and methods of an object usually means using the '.' (dot notation). This means we type the name of the object we are interested in, put a dot, then type the name of the property or method we want to call.\n",
    "\n",
    "For instance, calling the `clear()` method of a list object named `fruit` would be achieved like this:\n",
    "```python\n",
    "fruit.clear()\n",
    "```\n",
    "This would have the effect of removing any items stored by the list `fruit`, emptying the list.\n",
    "\n",
    "Similarly, if we wanted to use the count method to count the number of times a particular item occured in a list, we might do the following:\n",
    "```python\n",
    "fruit = ['apple','apple','banana','orange'] # create a list called fruit.\n",
    "fruit.count('apple') # count the number of times that the string 'apple' occurs in the fruit list\n",
    "```\n",
    "In the above, we would expect the `.count()` method, with the parameter 'apple' to return the value 2, because 'apple' appears twice in the list `fruit`.\n",
    "\n",
    "Additionally, there are some special in-built python functions that interact with objects and perform special behaviours, like `print()` and `len()`, or the numeric functions (e.g. `pow()`) you've seen already.\n",
    "\n",
    "For example, calling the python `print()` function enables us to print a representation of an object based on how a given object behaves with respect to that function.\n",
    "\n",
    "## Lists\n",
    "\n",
    "* The python list object is (possibly) the most versatile of the built in data structures.\n",
    "\n",
    "* It can hold any sequence of objects, including mixes of objects like strings, integers and Boolean variables together.\n",
    "\n",
    "* Lists can also hold other lists and dictionaries.\n",
    "\n",
    "* They can also hold custom data structures, and can be used to create custom data structures.\n",
    "\n",
    "* Lists are generally created, or 'instantiated', using square brackets `[]`.\n",
    "\n",
    "* A new list is considered to be an 'instance' of the list object.\n",
    "\n",
    "* Each item in the list is separated by a comma.\n",
    "\n",
    "* Lists can be amended (they are 'mutable' - they can be changed).\n",
    "\n",
    "* Technically, a string is a list of characters, this becomes clear if we explictly make it a list."
   ]
  },
  {
   "cell_type": "code",
   "execution_count": null,
   "metadata": {
    "collapsed": true
   },
   "outputs": [],
   "source": [
    "# Create a list.\n",
    "days_list = [\"Mon\", \"Tues\", \"Weds\", \"Thurs\", \"Fri\", \"Sat\", \"Sun\"]\n",
    "print(type(days_list))\n",
    "print(days_list)\n",
    "print (len(days_list))"
   ]
  },
  {
   "cell_type": "code",
   "execution_count": null,
   "metadata": {
    "collapsed": true
   },
   "outputs": [],
   "source": [
    "# A list of mixed objects\n",
    "mixed = [2,2.3,'string',True]"
   ]
  },
  {
   "cell_type": "code",
   "execution_count": null,
   "metadata": {
    "collapsed": true
   },
   "outputs": [],
   "source": [
    "# We can use the inbuilt function list() to convert a string to a list.\n",
    "mp = list(\"Monty Python\")\n",
    "mp"
   ]
  },
  {
   "cell_type": "markdown",
   "metadata": {},
   "source": [
    "There are a number of methods we can call on list objects, some important methods include:  \n",
    " * _list_`.append(object)` - adds an object to the end of the list.\n",
    " * _list_`.extend([objects])` - similar to append but contents of the list object is added not the list itself.\n",
    " * _list_`.insert(index, object)` - allows you to insert an object at a particular position in the list.\n",
    " * _list_`.pop(index)` - removes and returns the object at a particular position."
   ]
  },
  {
   "cell_type": "code",
   "execution_count": null,
   "metadata": {},
   "outputs": [],
   "source": [
    "list_1 = [10, 20, 30, 40, 50, 60]\n",
    "list_1.append(70) # append integer object 70 to end of list\n",
    "list_1"
   ]
  },
  {
   "cell_type": "code",
   "execution_count": null,
   "metadata": {
    "collapsed": true
   },
   "outputs": [],
   "source": [
    "list_2 = [10, 20, 30, 40, 50, 60]\n",
    "list_2.extend([70, 80, 90, 100]) # extend list with items in second list.\n",
    "list_2"
   ]
  },
  {
   "cell_type": "code",
   "execution_count": null,
   "metadata": {
    "collapsed": true
   },
   "outputs": [],
   "source": [
    "# What will happen here?\n",
    "list_2.append(list_1)\n",
    "list_2"
   ]
  },
  {
   "cell_type": "code",
   "execution_count": null,
   "metadata": {
    "collapsed": true
   },
   "outputs": [],
   "source": [
    "list_1 = [10, 20, 30, 40, 50, 60]\n",
    "list_1.insert(0, 5) # insert a 5 at index zero (the 1st position in python).\n",
    "list_1"
   ]
  },
  {
   "cell_type": "code",
   "execution_count": null,
   "metadata": {
    "collapsed": true
   },
   "outputs": [],
   "source": [
    "list_1 = [10, 20, 30, 40, 50, 60]\n",
    "value = list_1.pop(3) # remove the value at index 3 (the 4th index position) and store as a variable called value.\n",
    "print(value)\n",
    "print(list_1)"
   ]
  },
  {
   "cell_type": "code",
   "execution_count": 5,
   "metadata": {},
   "outputs": [
    {
     "data": {
      "text/plain": [
       "[10, 20, 30, 40, 50, 60, 70, 80, 80]"
      ]
     },
     "execution_count": 5,
     "metadata": {},
     "output_type": "execute_result"
    }
   ],
   "source": [
    "# Note that arithmetic approaches can have similar results.\n",
    "list_1 += [80]\n",
    "list_1"
   ]
  },
  {
   "cell_type": "markdown",
   "metadata": {},
   "source": [
    "In the code above there is a common programming shortcut being employed: `+=`  \n",
    "The following two assignments are identical:\n",
    "```python\n",
    "list_1 = list_1 + [80]\n",
    "list_1 += [80]\n",
    "```\n",
    "Other possible assignments operators include: `-=`, `*=`, `/=`, `//=`, `**=` and a few others.\n",
    "\n",
    "However, only `+` and `*` are meaningful for list operations, so other assignment operators give errors. However, these assignment operators will work for updating a numeric value."
   ]
  },
  {
   "cell_type": "code",
   "execution_count": 11,
   "metadata": {},
   "outputs": [],
   "source": [
    "# Starting values for cell below.\n",
    "lump_sum = 100\n",
    "interest = 1.025 # 2.5%"
   ]
  },
  {
   "cell_type": "code",
   "execution_count": null,
   "metadata": {},
   "outputs": [],
   "source": [
    "# Imagine this is a compund interest calculation.\n",
    "# Run this cell a few times and see the output value change.\n",
    "lump_sum *= interest\n",
    "lump_sum"
   ]
  },
  {
   "cell_type": "code",
   "execution_count": null,
   "metadata": {},
   "outputs": [],
   "source": [
    "#joinung 2 lists together\n",
    "numbersList = [1, 2, 3]\n",
    "numbers_tuple = ('ONE', 'TWO', 'THREE', 'FOUR')\n",
    "print(list(zip(numbersList, numbers_tuple)))"
   ]
  },
  {
   "cell_type": "markdown",
   "metadata": {},
   "source": [
    "## Tuples\n",
    "\n",
    "* Tuples are similar to lists, they can also hold any mixed sequence of objects.\n",
    "\n",
    "* However, tuples cannot be edited once created (immutable).\n",
    "\n",
    "* Tuples are created using parentheses () with items separated by commas.\n",
    "\n",
    "* The tuple() function can convert lists or strings to tuples.\n"
   ]
  },
  {
   "cell_type": "code",
   "execution_count": null,
   "metadata": {
    "collapsed": true
   },
   "outputs": [],
   "source": [
    "tuple1 = (\"Monday\", \"Tuesday\", \"Wednesday\")\n",
    "type(tuple1)"
   ]
  },
  {
   "cell_type": "code",
   "execution_count": null,
   "metadata": {
    "collapsed": true
   },
   "outputs": [],
   "source": [
    "tuple1"
   ]
  },
  {
   "cell_type": "code",
   "execution_count": null,
   "metadata": {
    "collapsed": true
   },
   "outputs": [],
   "source": [
    "# You can convert to a list using list\n",
    "list_frm_tuple = list(tuple1)\n",
    "type(list_frm_tuple)"
   ]
  },
  {
   "cell_type": "markdown",
   "metadata": {},
   "source": [
    "## Accessing Values in Lists and Tuples\n",
    "\n",
    "In addition to creating list objects, python also uses square brackets as an indexing operator.\n",
    "\n",
    "Therefore, to access a value in a list or tuple use the square brackets and the index (position) of the value you want to obtain e.g.\n",
    "```python\n",
    "vegetables= ['Carrot','Onion','Potato', 'Cauliflower']\n",
    "vegetables[1]\n",
    "```\n",
    "In the above list, the value obtained is `'Onion'` this is because python counts from zero:\n",
    "* `vegetable[0]` is 'Carrot'\n",
    "* `vegetable[1]` is 'Onion'\n",
    "* `vegetable[2]` is 'Potato'\n",
    "* `vegetable[3]` is 'Cauliflower'\n",
    "\n",
    "The same would apply if we had made a tuple instead of a list.\n",
    "\n",
    "If you are dealing with lists, you can also update the values in lists using indexing. This is because lists are mutable. e.g.\n",
    "```python\n",
    "vegetables= ['Carrot','Onion','Potato','Cauliflower']\n",
    "vegetables[1] = 'Courgette'\n",
    "```\n",
    "Will give: `['Carrot',Courgette','Potato','Cauliflower']`\n",
    "\n",
    "As `'Onion'` has been updated with `'Courgette`'\n",
    "\n",
    "Ways to index:\n",
    "\n",
    "Python Expression | Result | Explanation\n",
    "------------------|--------|------------\n",
    "vegetables[1]     |'Courgette'| Indexing from start of list at 0\n",
    "vegetables[-2] | 'Potato' | Backwards indexing from end of list\n",
    "vegetables[2:] | ['Potato','Cauliflower'] | Slicing a section from a given start index to the end of the list.\n",
    "vegetables[:2] | ['Carrot','Courgette'] | Slicing a section from the start of the list until a given end index.\n",
    "vegetables[1:3] | ['Courgette','Potato'] | Slicing a section from a given start index to a given end index.\n",
    "\n",
    "Try some of these approaches below."
   ]
  },
  {
   "cell_type": "code",
   "execution_count": null,
   "metadata": {
    "collapsed": true
   },
   "outputs": [],
   "source": [
    "# Try indexing list_1 and list_2\n",
    "list_1[0]"
   ]
  },
  {
   "cell_type": "code",
   "execution_count": null,
   "metadata": {
    "collapsed": true
   },
   "outputs": [],
   "source": [
    "# slicing\n",
    "list_1[3:5]"
   ]
  },
  {
   "cell_type": "code",
   "execution_count": null,
   "metadata": {
    "collapsed": true
   },
   "outputs": [],
   "source": [
    "# Backwards indexing\n",
    "tuple1[-1]"
   ]
  },
  {
   "attachments": {
    "image.png": {
     "image/png": "[encoded data removed]"
    }
   },
   "cell_type": "markdown",
   "metadata": {},
   "source": [
    "# Exercise 4\n",
    "\n",
    "1.  Here is a python list that outlines a bus journey with stops:\n",
    "\n",
    "        Route1 = [['Glasgow', '09:00'],['Falkirk', '10:00'],['Edinburgh', '10:30']]\n",
    "\n",
    "     \n",
    "     Print out stop 3 (place and time of arrival).\n",
    "\n",
    "2.   Using the Len function, return how many stops are in route 1.\n",
    "\n",
    "3.  How long does the journey (route 1) take. Subtract the arrival time  from last stop with departure time in first stop.<br>\n",
    "\n",
    "    To subtract datetime import library <br>\n",
    "    from datetime import timedelta <br>\n",
    "    <br>\n",
    "    Ensure that time is passed to the timedelta function as shown below: <br>\n",
    "    <br>\n",
    "    t1 = timedelta(hours = 11, minutes = 34)<br>\n",
    "    <br>\n",
    "\n",
    "4.  Write a python statement to check if the number 3 is in the list below:\n",
    "    \n",
    "    list1=  [1, 5, 8, 3] \n",
    "    \n",
    "    Why would this statement produce an error:\n",
    "    \n",
    "    tuple(list1)[1] = 3\n",
    "\n",
    "\n",
    "5.  Here are 2 cartesian co-ordinates in lists:\n",
    "\n",
    "    point1 =[5,5]\n",
    "    point2 = [10,10]\n",
    "    <br>\n",
    "    \n",
    "  ![image.png](attachment:image.png)\n",
    "  \n",
    "  \n",
    "  <br>\n",
    "  \n",
    "  Using the distance formula shown above, write python statements to calculate <br>\n",
    "  the distance between these two points. Convert to tuple before beginning calculation.\n",
    "  "
   ]
  },
  {
   "cell_type": "markdown",
   "metadata": {},
   "source": [
    "## Dictionaries\n",
    "```\n",
    "* A dictionary has a set of 'keys' and each key has a single associated value.\n",
    "\n",
    "* Instead of indexing by position as with lists and tuples, dictionaries are indexed by keys.\n",
    "\n",
    "* When presented with a key, the dictionary will return the associated value.\n",
    "\n",
    "* A dictionary key must be an immutable data type. Usually this will mean integers or strings, but it is possible to use a tuple as a dictionary key.\n",
    "\n",
    "* In contrast, a dictionary value can hold any combination of objects. Including other dictionaries to create 'nested' dictionaries.\n",
    "\n",
    "* Dictionaries are 'key-value pair' data structures, also known as a _hash_, a _map_, and a _hashmap_ in other programming languages.\n",
    "\n",
    "* Python dictionaries are created using curly brackets { }.\n",
    "```python\n",
    "dictionary = {key1: value1, key2:value2, ...}\n",
    "```\n",
    "    \n",
    "* Values can be indexed by using a key within square brackets.\n",
    "```python\n",
    "dictionary[key2]\n",
    "```\n",
    "    \n",
    "* New keys can be assigned to a dictionary by providing a new key-value pair, however, if the key already exists this will overwrite the existing value as dicitonary keys must be unique.\n",
    "\n",
    "\n",
    "Python distionary methods listed here: https://www.w3schools.com/python/python_ref_dictionary.asp\n"
   ]
  },
  {
   "cell_type": "code",
   "execution_count": null,
   "metadata": {
    "collapsed": true
   },
   "outputs": [],
   "source": [
    "# Example \n",
    "person1 = {'name': 'Steve', 'occupation': 'musician', 'instrument' : ['keyboards', 'guitar', 'vocals'], \n",
    "      'nationality': 'English'}\n",
    "\n",
    "print(\"Name is\" , person1['name'], 'and',\n",
    "      \"instrument 1 is \", person1['instrument'][1])\n"
   ]
  },
  {
   "cell_type": "code",
   "execution_count": null,
   "metadata": {
    "collapsed": true
   },
   "outputs": [],
   "source": [
    "# Example 2\n",
    "person2 = {'name': 'John', 'occupation': 'Programmer', 'languages': ['python','C++','scala'], 'nationality': 'UK'}\n",
    "person2"
   ]
  },
  {
   "cell_type": "code",
   "execution_count": null,
   "metadata": {
    "collapsed": true
   },
   "outputs": [],
   "source": [
    "# Add a new key to a dictionary\n",
    "person1['age'] = 59\n",
    "person1"
   ]
  },
  {
   "cell_type": "code",
   "execution_count": null,
   "metadata": {
    "collapsed": true
   },
   "outputs": [],
   "source": [
    "# Update an existing key\n",
    "person2['occupation'] = 'Data Scientist'\n",
    "person2.update({\"postcode\": \"G51 3SR\"})"
   ]
  },
  {
   "cell_type": "code",
   "execution_count": null,
   "metadata": {},
   "outputs": [],
   "source": [
    "#get all keys\n",
    "print(person2.keys())\n",
    "#get all values\n",
    "print(person2.values())"
   ]
  },
  {
   "cell_type": "code",
   "execution_count": null,
   "metadata": {},
   "outputs": [],
   "source": [
    "#remove an item\n",
    "person2.pop(\"postcode\")"
   ]
  },
  {
   "cell_type": "code",
   "execution_count": null,
   "metadata": {},
   "outputs": [],
   "source": [
    "#check for item existance\n",
    "\"nationality\" in person2"
   ]
  },
  {
   "cell_type": "code",
   "execution_count": null,
   "metadata": {},
   "outputs": [],
   "source": [
    "#sorting a dictionary\n",
    "\n",
    "color_dict = {'red':'#FF0000',\n",
    "          'green':'#008000',\n",
    "          'black':'#000000',\n",
    "          'white':'#FFFFFF'}\n",
    "\n",
    "for key in sorted(color_dict):\n",
    "    print(\"%s: %s\" % (key, color_dict[key]))"
   ]
  },
  {
   "cell_type": "markdown",
   "metadata": {},
   "source": [
    "# Exercise 5\n",
    "\n",
    "\n",
    "1.  student_names=['Tom', 'Peter', 'Jane']<br>\n",
    "    modules =['FC107', 'FC106','MST123']<br>\n",
    "\n",
    "    Using the above lists set up the following dictionary.<br>\n",
    "    student_modules ={'Tom': 'MST123', 'Peter': [FC107, FC106], 'Jane': 'FC106'}<br>\n",
    "\n",
    "    Use list slicing as shown previosuly to set up the dictionary\n",
    "\n",
    "    For example:<br>\n",
    "    student_modules={}<br>\n",
    "    student_modules[student_names[0]] = modules[2]<br>\n",
    "<br>\n",
    "2.  Check if a student already exists in dictionary student_names.\n",
    "\n",
    "3.  Write a Python code to concatenate following dictionaries to create a new one.<br>\n",
    "<br>\n",
    "    dic1={1:10, 2:20} <br>\n",
    "    dic2={3:30, 4:40} <br>\n",
    "    dic3={5:50,6:60}  <br>\n",
    "    dic4: {1: 10, 2: 20, 3: 30, 4: 40, 5: 50, 6: 60}<br>\n",
    "<br>\n",
    "4.  Sum all the values in the dic1 dictionary\n",
    "5.  Count the number o students in the student_modules dictionary."
   ]
  },
  {
   "cell_type": "markdown",
   "metadata": {},
   "source": [
    "## Sequence, Selection, Iteration\n",
    "\n",
    "\n",
    "All programming languages have 3 elements in common. They give power to implement solutions to extremely complex problems.\n",
    "\n",
    "These 3 elements are: \n",
    "\n",
    "* Sequence \n",
    "* Selection \n",
    "* Iteration \n",
    "\n",
    "**Sequence** is the order in which instructions occur and are processed.<br>\n",
    "**Selection** determines which path a program takes when it is running. <br>\n",
    "**Iteration** is the repeated execution of a section of code when a program is running.<br>\n",
    "<br>\n",
    "There are two types of iteration:<br>\n",
    "*count-controlled iteration*<br>\n",
    "*condition-controlled iteration*<br>\n",
    "\n",
    "All programs use one or more of these constructs. The longer and more complex the program, the more these constructs will be used repeatedly."
   ]
  },
  {
   "cell_type": "markdown",
   "metadata": {},
   "source": [
    "## Sequencing"
   ]
  },
  {
   "cell_type": "code",
   "execution_count": null,
   "metadata": {},
   "outputs": [],
   "source": [
    "print (\"Hello World\")"
   ]
  },
  {
   "cell_type": "code",
   "execution_count": null,
   "metadata": {},
   "outputs": [],
   "source": [
    "name = input (\"Please input your name\")\n",
    "print (\"Hello\", name, \"Welcome to course: Introduction to Python\")"
   ]
  },
  {
   "cell_type": "code",
   "execution_count": null,
   "metadata": {},
   "outputs": [],
   "source": [
    "print (\"Hello World\")"
   ]
  },
  {
   "cell_type": "markdown",
   "metadata": {},
   "source": [
    "## Selection: Conditional Statements  <br\n",
    "\n",
    "\n",
    "Python, like most programming languages also has a conditional statement, in python you can use:\n",
    "```python\n",
    "if <condition>:\n",
    "    <do something>\n",
    "```\n",
    "or\n",
    "```python\n",
    "if <condition>:\n",
    "    <do something>\n",
    "else:\n",
    "    <do something>\n",
    "```\n",
    "or finally\n",
    "```python\n",
    "if <condition>:\n",
    "    <do something>\n",
    "elif <condition>:\n",
    "    <do something>\n",
    "else:\n",
    "    <do something>\n",
    "```\n",
    "You can have as many `elif` parts as are needed."
   ]
  },
  {
   "cell_type": "code",
   "execution_count": null,
   "metadata": {},
   "outputs": [],
   "source": [
    "a = 33\n",
    "b = 200\n",
    "\n",
    "if b > a:\n",
    "    print(\"b is greater than a\")"
   ]
  },
  {
   "cell_type": "code",
   "execution_count": null,
   "metadata": {},
   "outputs": [],
   "source": [
    "temperature = float(input('What is the temperature? '))\n",
    "if temperature > 70:\n",
    "        print('Wear shorts.')\n",
    "else:\n",
    "        print('Wear long pants.')\n",
    "print('Get some exercise outside.')\n"
   ]
  },
  {
   "cell_type": "code",
   "execution_count": null,
   "metadata": {},
   "outputs": [],
   "source": [
    "i = 20\n",
    "if (i == 10): \n",
    "    print (\"i is 10\") \n",
    "elif (i == 15): \n",
    "    print (\"i is 15\") \n",
    "elif (i == 20): \n",
    "    print (\"i is 20\") \n",
    "else: \n",
    "    print (\"i is not present\") "
   ]
  },
  {
   "cell_type": "markdown",
   "metadata": {},
   "source": [
    "## Iteration \n",
    "\n",
    "In Python, some objects are **iterable**. This means that they have a method which allows sequential access to the indices in the object from 0 to n. Iterable objects **can therefore be looped over** using the built-in for loop. Iteration, in this context, means taking each item of an object, one after another.\n",
    "\n",
    "Technically, the string is the simplest iterable object. Using a for loop we can iterate over each character in the string and perform a task.\n",
    "\n",
    "**The for loop**\n",
    "\n",
    "Python’s for loop looks like this:\n",
    "\n",
    "\n",
    "```python\n",
    "for <var> in <iterable>:\n",
    "    <statement(s)>\n",
    "```\n",
    "\n",
    "<iterable> is a collection of objects—for example, a list or tuple. The <statement(s)> in the loop body are denoted by indentation, as with all Python control structures, and are executed once for each item in <iterable>. \n",
    "The loop variable <var> takes on the value of the next element in <iterable> each time through the loop.\n",
    "\n",
    "\n",
    "**The while loop**\n",
    "\n",
    "The format of a rudimentary while loop is shown below:\n",
    "\n",
    "```python\n",
    "while <expr>:\n",
    "    <statement(s)>\n",
    "```\n",
    "    \n",
    "<statement(s)> represents the block to be repeatedly executed, often referred to as the body of the loop. \n",
    "This is denoted with indentation, just as in an if statement.\n",
    "\n",
    "The controlling expression, <expr>, typically involves one or more variables that are initialized prior to starting the loop and then modified somewhere in the loop body.\n",
    "\n",
    "When a while loop is encountered, <expr> is first evaluated in Boolean context.\n",
    "If it is true, the loop body is executed. Then <expr> is checked again, and if still true, the body is executed again. This continues until <expr> becomes false, at which point program execution proceeds to the first statement beyond the loop body.\n"
   ]
  },
  {
   "cell_type": "code",
   "execution_count": null,
   "metadata": {},
   "outputs": [],
   "source": [
    "##The for loop"
   ]
  },
  {
   "cell_type": "code",
   "execution_count": null,
   "metadata": {},
   "outputs": [],
   "source": [
    "# iterate over characters in a string.\n",
    "for char in \"Data Science Campus\":\n",
    "    print(char)"
   ]
  },
  {
   "cell_type": "code",
   "execution_count": null,
   "metadata": {},
   "outputs": [],
   "source": [
    "# iterate over list of days\n",
    "days= ['Mon','Tues','Wed','Thurs','Fri']\n",
    "for item in days:\n",
    "    print(item)"
   ]
  },
  {
   "cell_type": "code",
   "execution_count": null,
   "metadata": {},
   "outputs": [],
   "source": [
    "days= ['Mon','Tues','Wed','Thurs','Fri']\n",
    "for num in range (len (days)):\n",
    "    print(num, days[num])"
   ]
  },
  {
   "cell_type": "code",
   "execution_count": null,
   "metadata": {},
   "outputs": [],
   "source": [
    "#The while loop"
   ]
  },
  {
   "cell_type": "code",
   "execution_count": null,
   "metadata": {},
   "outputs": [],
   "source": [
    "n = 5\n",
    "while n > 0:\n",
    "    n -= 1\n",
    "    print(n)"
   ]
  },
  {
   "cell_type": "code",
   "execution_count": null,
   "metadata": {},
   "outputs": [],
   "source": [
    "a = ['foo', 'bar', 'baz', 'qux', 'corge']\n",
    "while a:\n",
    "    if len(a) < 3:\n",
    "        break\n",
    "    print(a.pop())\n",
    "print('Done.')"
   ]
  },
  {
   "cell_type": "markdown",
   "metadata": {
    "collapsed": true
   },
   "source": [
    "## Keeping Track of Objects\n",
    "\n",
    "The Jupyter Notebook has a 'magic' command `%whos` which shows the current objects in memory and some information about them."
   ]
  },
  {
   "cell_type": "code",
   "execution_count": null,
   "metadata": {},
   "outputs": [],
   "source": [
    "# Have a look at currently instantiated objects.\n",
    "%whos"
   ]
  },
  {
   "cell_type": "markdown",
   "metadata": {},
   "source": [
    "# Exercise 6\n",
    "\n",
    "1. Assume a non-empty list a. Write a one-line while loop that uses the list.pop() method to remove all the values from a.\n",
    "\n",
    "2. \n",
    "\n",
    "3.\n",
    "\n",
    "4. "
   ]
  },
  {
   "cell_type": "markdown",
   "metadata": {},
   "source": [
    "## General Purpose Objects\n",
    "\n",
    "The data structures above, lists, tuples, and dictionaries, are the core, in-built data structures available in python. They are always available for use and easily created and destroyed. They are general purpose which means they are useful in many situations, however, they may not allow us to complete specific tasks as easily as we would like.\n",
    "\n",
    "Nonetheless, it is really important to know a bit about lists, tuples and dictionaries because they are used throughout python, and you will be very likely to encounter them in some form. Perhaps as an output from a function or method; as a way of providing input to a procedure; or, as the way that the library you are using stores properties.\n",
    "\n",
    "Many advanced python libraries that have been built for specific purposes, like data science, take advantage of the fact that objects are extensible. Programmers can create new classes based on existing objects and add in specific properties or methods that do specific things. This means that general purpose objects can be customised for particular tasks.\n",
    "\n",
    "In data science applications, the Pandas library provides specialised objects that make working with data tables a lot easier than if we had to rely on python's general purpose objects. However, because pandas objects are specialised, they are also more complicated than general purpose objects.\n",
    "\n",
    "# The Pandas Library - Objects for Data Science\n",
    "\n",
    "Pandas adds two important data structures that we need to know about. The 1 dimensional `Series` and the 2 dimensional `DataFrame`.\n",
    "\n",
    "## Series Objects\n",
    "\n",
    "* A Series is like a one-dimensional array (effectively a list) with a label for each observation.\n",
    "\n",
    "* You can think of a Series as being similar to a single column in a spreadsheet: a list of values.\n",
    "\n",
    "* However, the items in a Series must all be of the same data type, unlike a list.\n",
    "\n",
    "* The Series index provides a label for each observation, the default is for consecutive integer labels starting at 0.\n",
    "\n",
    "* However, a Series index does not have to be consecutive numbers, they can be non-unique numbers, non-consecutive numbers, as well as string objects or tuples.\n",
    "\n",
    "* As such, the Series itself is a bit like a list, whereas the Series index is a bit like a dictionary, and is able to return a value in the Series based on the index, like a key-value pair.\n",
    "\n",
    "* The Series object implements a large number of special behaviours (methods, procedures) that can be called on the data held in a Series to get useful outputs. This includes mathematical functions, like taking the average of all values in a numerical Series.\n",
    "\n",
    "##  DataFrame Objects\n",
    "\n",
    "* A DataFrame is a two-dimensional version of a Series object.\n",
    "\n",
    "* In effect, a DataFrame is a collection of Series objects - one Series for each column in the DataFrame.\n",
    "\n",
    "* A DataFrame is thus similar to a whole spreadsheet, like an Excel file, a STATA .dta file, a SAS file, an SPSS .sav file etc.\n",
    "\n",
    "* A DataFrame can hold columns with different data types, but as per Series above, any single column must contain vlaues of the same data type.\n",
    "\n",
    "* The dimensions are labeled in a similar way to the Series object:\n",
    "\n",
    "    * **index** - refers to the row labels\n",
    "    * **columns** - refers to the column labels\n",
    "    \n",
    " * Having indexed data allows fast look up and powerful relational operations \n",
    " \n",
    " * Each row has a label and each column has a label\n",
    "\n",
    "Most the the time you'll be working with DataFrame objects in Pandas, however, as DataFrames are composed of Series, it is very likely that through indexing, selection, creation of new columns, and analysis you'll encounter Series objects too. Luckily, DataFrame and Series objects are similar, DataFrames effectively extend the Series into two-dimensions and as such implement some additional properties and methods that may not be relevant to Series on their own."
   ]
  },
  {
   "cell_type": "markdown",
   "metadata": {},
   "source": [
    "## Importing Python Modules (Pandas)\n",
    "\n",
    "Python is great on its own, but most of the time you'll want to add useful functionality by 'importing' modules which expand python along particular lines.\n",
    "\n",
    "We'll import a module called 'pandas'.\n",
    "\n",
    "Pandas expands what we can do with data, and the ease with which we can do it. It allows for: the easy reading and writing of data in loads of different formats; the manipulation, selection, aggregation, merging and joining of data tables; the creation of statistical summaries; and, analysis and modeling."
   ]
  },
  {
   "cell_type": "code",
   "execution_count": null,
   "metadata": {
    "collapsed": true
   },
   "outputs": [],
   "source": [
    "# importing pandas is this simple!\n",
    "import pandas as pd"
   ]
  },
  {
   "cell_type": "markdown",
   "metadata": {},
   "source": [
    "The above code cell has two lines.\n",
    "\n",
    "The first line is a comment - Python (and other languages) \"skip\" anything with a # infront of it.\n",
    "\n",
    "On the second line I've written my import statement. There are two parts to this statement:\n",
    "1. `import pandas`\n",
    "2. `as pd`\n",
    "\n",
    "In python, it is sufficient just to write `import pandas`.\n",
    "\n",
    "`pd` is a common nickname or 'alias' used for pandas - rather than write 'pandas' each time I can just write 'pd.'\n",
    "\n",
    "Many packages have nicknames that are consistently applied by members of the wider python community, such as pandas being pd. You don't have to adhere to these conventions, but you'll probably see them used a lot in training and help materials online.\n",
    "\n",
    "When you successfully import a module, you don't usually get any feedback. However, if you get it wrong you'll get an error message that should give you some idea of what happened, for instance:"
   ]
  },
  {
   "cell_type": "code",
   "execution_count": null,
   "metadata": {
    "collapsed": true
   },
   "outputs": [],
   "source": [
    "# If you run this code cell you should get a 'ModuleNotFoundError' as there is no 'pandahs' module!\n",
    "import pandahs # by the way, I can also comment on the end of lines too!"
   ]
  },
  {
   "cell_type": "markdown",
   "metadata": {},
   "source": [
    "## Setting a Working Directory\n",
    "\n",
    "The 'working directory' is the place that Jupyter will try to load files from, or save files to, without any more explicit instructions. The default is usually the same folder that the notebook you are using is in.  \n",
    "\n",
    "* On Windows this might look like: C:/users/[yourName]/Intro_to_Python/Notebooks  \n",
    "\n",
    "* On Macs it might look like: /User/[yourName]/Intro_to_Python/Notebooks\n",
    "\n",
    "We can check the working directory by typing `%pwd ` in a cell. pwd = print working directory."
   ]
  },
  {
   "cell_type": "code",
   "execution_count": null,
   "metadata": {
    "collapsed": true
   },
   "outputs": [],
   "source": [
    "%pwd"
   ]
  },
  {
   "cell_type": "markdown",
   "metadata": {},
   "source": [
    "If the working directory is not in the notebooks folder, you can use `%cd` (change directory) and provide an absolute or relative file path to change the working directory to that folder."
   ]
  },
  {
   "cell_type": "code",
   "execution_count": null,
   "metadata": {
    "collapsed": true
   },
   "outputs": [],
   "source": [
    "%cd"
   ]
  },
  {
   "cell_type": "markdown",
   "metadata": {},
   "source": [
    "When we want to find something - like data, folders, or notebooks - we can type an **absolute file path**, e.g. `\"C:/users/[yourName]/Documents/Training/Intro_to_Python/Notebooks\"`\n",
    "\n",
    "These give the complete address of the file or folder, however, this is often only correct for your computer. If you share your notebook the person receiving the notebook will need to update all of the file paths to reflect where the relevant files are on their system.\n",
    "\n",
    "We can also use what's called a **relative file path**. These filepaths are *relative* to whatever the working directory is at the time.\n",
    "\n",
    "Think of a file structure like a tree diagram. From a given folder you can either move up or down the file structure.\n",
    "\n",
    "```\n",
    "Intro_to_Python\n",
    "│    \n",
    "│\n",
    "└───Notebooks\n",
    "│       Intro to Python - Day 1 AM.ipynb\n",
    "│       Intro to Python - Day 2.ipynb\n",
    "│       Vignette-Statistics.ipynb\n",
    "│       Vignette-Visualisation.ipynb\n",
    "│\n",
    "└───Data\n",
    "│       titanic.csv\n",
    "│\n",
    "└───Solutions\n",
    "│   │     \n",
    "│   └───Day1\n",
    "│   │       exercise1.py\n",
    "│   │       exercise2.py\n",
    "│   │       ...\n",
    "```\n",
    "\n",
    "If our current working directory is 'Notebooks', and we want to switch to 'Data', we can use the relative path:\n",
    "```terminal\n",
    "%cd ../Data\n",
    "```\n",
    "This effectively says, first go up a directory (..), so from `Notebooks` to `Intro_to_Python`. Then go down a directory into `Data`.\n",
    "\n",
    "Going up a directory always requires .., whereas going down a directory always requires you to name the intended directory."
   ]
  },
  {
   "cell_type": "markdown",
   "metadata": {},
   "source": [
    "## Reading in Data\n",
    "\n",
    "Now that you've loaded pandas, lets read some data into python and see what that looks like.\n",
    "\n",
    "Pandas can read data in a variety of different formats. In the code cell below type pd.read then press **Tab**\n",
    "\n",
    "Pressing Tab gives you all the things you can do with pandas that start with 'read'. You probably recognise some of the data input types (e.g. Excel, SAS, Stata), while others you may not have heard of (e.g. pickle, json etc.) You can then select whichever method you wish to use.\n",
    "\n",
    "**Tab** is a really useful shortcut to know for finding or completing commands in notebooks. "
   ]
  },
  {
   "cell_type": "code",
   "execution_count": null,
   "metadata": {
    "collapsed": true
   },
   "outputs": [],
   "source": [
    "# type pd.read then without adding a space press Tab.\n"
   ]
  },
  {
   "cell_type": "markdown",
   "metadata": {},
   "source": [
    "As you can see, we can read in a large variety of data using pandas data readers.\n",
    "\n",
    "(NB There isn't a specific reader for SPSS files - it is possible to read .sav files, unfortunately you need another library called savReaderWriter at the moment.)\n",
    "\n",
    "## Reading a CSV file\n",
    "\n",
    "Now that you've seen the different options, try reading a simple csv (comma separated value) dataset. \n",
    "\n",
    "To read a csv file, the only piece of information we absolutely need is the location of the file.\n",
    "\n",
    "The file is called 'titanic.csv' and is in the data folder.\n",
    "\n",
    "The code below demonstrates how you can read these data."
   ]
  },
  {
   "cell_type": "code",
   "execution_count": null,
   "metadata": {
    "collapsed": true
   },
   "outputs": [],
   "source": [
    "# Read the data using a relative path\n",
    "titanic = pd.read_csv('../Data/titanic.csv')"
   ]
  },
  {
   "cell_type": "markdown",
   "metadata": {},
   "source": [
    "There are a number of variables within this dataset:\n",
    "* pclass = Passenger class of travel.\n",
    "* survived = 1 if the passenger survived the sinking, 0 if not.\n",
    "* name = Full name of the passenger, including title.\n",
    "* sex = Passenger gender.\n",
    "* age = Passenger age.\n",
    "* sibsp = Count of siblings or spouse also aboard.\n",
    "* Parch = Count of parents or children also aboard.\n",
    "* ticket = Ticket reference.\n",
    "* fare = fare paid.\n",
    "* cabin = Cabin number.\n",
    "* embarked = Port of embarkation. (S = Southampton (UK); C = Cherbourg (France); Q = Queenstown (Cobh, Ireland))\n",
    "\n",
    "## Exploring the Data\n",
    "\n",
    "The first thing we may want to do having read in a DataFrame is to take a quick overview and check it looks right.\n",
    "\n",
    "There are several DataFrame methods we might use to do this: `.head()`, `.tail()` and `.sample()`"
   ]
  },
  {
   "cell_type": "code",
   "execution_count": null,
   "metadata": {
    "collapsed": true
   },
   "outputs": [],
   "source": [
    "# head shows the first n rows of the dataframe (5 by default).\n",
    "titanic.head()"
   ]
  },
  {
   "cell_type": "code",
   "execution_count": null,
   "metadata": {
    "collapsed": true
   },
   "outputs": [],
   "source": [
    "# tail shows the last n rows of a dataframe (5 by default)\n",
    "titanic.tail(3)"
   ]
  },
  {
   "cell_type": "code",
   "execution_count": null,
   "metadata": {
    "collapsed": true
   },
   "outputs": [],
   "source": [
    "# sample shows n rows chosen at random from the dataframe (1 by default)\n",
    "titanic.sample(4)"
   ]
  },
  {
   "cell_type": "markdown",
   "metadata": {},
   "source": [
    "### DataFrame Size\n",
    "\n",
    "Knowing how many rows and columns your DataFrame has is important. Luckily, this is a *property* of the DataFrame object called `.shape`."
   ]
  },
  {
   "cell_type": "code",
   "execution_count": null,
   "metadata": {
    "collapsed": true
   },
   "outputs": [],
   "source": [
    "# get the number of rows and columns\n",
    "# NB This line 'unpacks' the tuple returned by shape\n",
    "numrows, numcols = titanic.shape"
   ]
  },
  {
   "cell_type": "code",
   "execution_count": null,
   "metadata": {
    "collapsed": true
   },
   "outputs": [],
   "source": [
    "# print out the number of rows and columns\n",
    "print(\"There are {} rows and {} columns in the titanic dataset\".format(numrows, numcols))"
   ]
  },
  {
   "cell_type": "code",
   "execution_count": null,
   "metadata": {
    "collapsed": true
   },
   "outputs": [],
   "source": [
    "# number of rows using pythons inbuilt len() function (len meaning 'length')\n",
    "numrows = len(titanic)\n",
    "# print the number of rows using f-string formatting.\n",
    "print(f\"There are {numrows} rows in the titanic dataframe\")"
   ]
  },
  {
   "cell_type": "markdown",
   "metadata": {},
   "source": [
    "### DataFrame Data Types\n",
    "\n",
    "When we want to know what type of object a particular object is we can use python's `type()` function. However, `type(titanic)` will only tell us that `titantic` is a pandas DataFrame object. It won't tell us the kinds of data that are in the DataFrame. To find this out we can use the DataFrame object's `.dtypes` property.\n",
    "\n",
    "Calling `dtypes` on a DataFrame object, like `titanic` returns a pandas series, in which the row indices are the column names in `titanic` and the values are the type of data stored in each column."
   ]
  },
  {
   "cell_type": "code",
   "execution_count": null,
   "metadata": {
    "collapsed": true
   },
   "outputs": [],
   "source": [
    "# get column data types\n",
    "titanic.dtypes"
   ]
  },
  {
   "cell_type": "markdown",
   "metadata": {},
   "source": [
    "Remember our different data types - \n",
    "\n",
    "* **int** indicates integers, 'parch' for instance is recording counts as whole numbers, such as: 0, 1, 2 etc.\n",
    "* **float** indicates 'floating-point numbers', effectively decimal numbers like in the age column.\n",
    "* **object** indicates text, also known as 'string' data. The 'name' column gives passenger full names and titles.\n",
    "* **bool** which indicates Boolean values, Booleans encode True or False values.\n",
    "\n",
    "Other data types you might see include:\n",
    "* **datetime** which encodes date and time values.\n",
    "* **category** which is a special Pandas datatype for categorical or factor variables.\n",
    "\n",
    "Sometimes the datatype will have some numbers after it, e.g. float64, int32. These numbers tell you something about the range of storage capacity as they relate to the number of bits used to encode the data. An int64 can hold a very large number, much larger than an int32 which can hold a number as large as 2,147,483,647 but no larger.\n",
    "\n",
    "Most of the time you won't have to worry about the range of the data type, but it's useful to be aware of."
   ]
  },
  {
   "cell_type": "markdown",
   "metadata": {},
   "source": [
    "### DataFrame Column Names\n",
    "\n",
    "It can be useful to extract a list of column names from a DataFrame, this is easily done by calling the `.columns` property."
   ]
  },
  {
   "cell_type": "code",
   "execution_count": null,
   "metadata": {
    "collapsed": true
   },
   "outputs": [],
   "source": [
    "# Column names are really easy to get!\n",
    "colnames = titanic.columns\n",
    "colnames"
   ]
  },
  {
   "cell_type": "code",
   "execution_count": null,
   "metadata": {
    "collapsed": true
   },
   "outputs": [],
   "source": [
    "# colnames is an index object, if we wanted a list we could use:\n",
    "#colnames = colnames.tolist()\n",
    "# or\n",
    "colnames = list(colnames)\n",
    "colnames"
   ]
  },
  {
   "cell_type": "markdown",
   "metadata": {},
   "source": [
    "As standard, pandas returns 'columns' as a special object called an 'index'. \n",
    "\n",
    "I've chosen to use some additional code to return it as a 'list'. Lists are inbuilt python objects. Remember:\n",
    "\n",
    "* a **tuple** and an **index** are 'immutable', this means you can't change it, it's a fixed thing in a fixed order.\n",
    "* a **list** is 'mutable', you can pretty much do whatever you want with it!\n",
    "\n",
    "Pandas returns a tuple for the `.shape` property, because the number of rows and number of columns is fixed. \n",
    "\n",
    "Other things, like a list of column names can actually be changed and updated, a list allows this whereas a tuple doesn't."
   ]
  },
  {
   "cell_type": "markdown",
   "metadata": {},
   "source": [
    "### DataFrame Info\n",
    "\n",
    "DataFrames also have an `.info()` method which returns a concise summary of information about the Data."
   ]
  },
  {
   "cell_type": "code",
   "execution_count": null,
   "metadata": {
    "collapsed": true
   },
   "outputs": [],
   "source": [
    "titanic.info()"
   ]
  },
  {
   "cell_type": "markdown",
   "metadata": {},
   "source": [
    "Note the different counts in the information above, this suggests that some variables are completely observed (e.g. pclass, survived), while others have missing data values (e.g. age, embarked, cabin).\n",
    "\n",
    "### Saving a DataFrame\n",
    "\n",
    "When you read a DataFrame into pandas, the data are loaded in memory. This means that any changes you make won't be reflected in the original file you loaded. If you want to preserve the changes you make to the dataset you have to export the DataFrame object to a file.\n",
    "\n",
    "Pandas has a number of file writers. Let's save the `titanic` DataFrame as an excel file."
   ]
  },
  {
   "cell_type": "code",
   "execution_count": null,
   "metadata": {
    "collapsed": true
   },
   "outputs": [],
   "source": [
    "# File writers are prefixed with .to_ press tab to find avaialble options.\n",
    "titanic.to_excel('../Save/titanic.xlsx')"
   ]
  },
  {
   "cell_type": "markdown",
   "metadata": {},
   "source": [
    "## Getting Help\n",
    "\n",
    "Most python modules include information on how to use their functions with something called a 'docstring'. You can look at docstrings using python's in-built help() function. Run the code below to look at the docstring for the pandas read_csv function."
   ]
  },
  {
   "cell_type": "code",
   "execution_count": null,
   "metadata": {
    "collapsed": true
   },
   "outputs": [],
   "source": [
    "# Have a look at the docstring using python.\n",
    "help(pd.read_csv)"
   ]
  },
  {
   "cell_type": "markdown",
   "metadata": {},
   "source": [
    "When you're using a notebook, you can also access the docstring by pressing Shift-Tab with the cursor somewhere in the object. This produces a **tool-tip**. A small pop-up box with relevant information.\n",
    "\n",
    "Pressing Tab once shows the parameters available for the particular object you are looking at.  \n",
    "Pressing Tab twice shows the whole docstring.  \n",
    "Pressing Tab a third time makes the tool-tip linger for 10 seconds.  \n",
    "Pressing Tab a fourth time put the tool-tip into a larger pane in the browser.  \n",
    "\n",
    "The tool-tip provides the same information as the `help()` function, but with nicer formatting!"
   ]
  },
  {
   "cell_type": "code",
   "execution_count": null,
   "metadata": {
    "collapsed": true
   },
   "outputs": [],
   "source": [
    "pd.read_csv()"
   ]
  },
  {
   "cell_type": "markdown",
   "metadata": {},
   "source": [
    "### Docstrings\n",
    "\n",
    "Docstrings look a bit scary at first, but once you learn how to read them they're super useful!\n",
    "\n",
    "The first block of text is the function we're looking at - read_csv - followed by all the possible parameters you can use to modify how pandas reads a csv file.\n",
    "\n",
    "Note that the first parameter is 'filepath_or_buffer', that's currently all you're passing to this function - the filepath of 'MarvelUniverse.csv'.\n",
    "\n",
    "If you scroll down a little, you can then see all of the possible parameters listed and described.\n",
    "\n",
    "E.g If your data were semi-colon delimited you'd have to specify the 'sep' parameter. \n",
    "No header row? (i.e. column names) you could set 'header' to None.\n",
    "\n",
    "At the very bottom of the docstring, you can see that read_csv function returns a 'DataFrame'.\n",
    "\n",
    "Don't get too hung up on docstrings for now though, as you become more experienced they'll begin to make more sense!"
   ]
  },
  {
   "cell_type": "markdown",
   "metadata": {},
   "source": [
    "# Consolidation\n",
    "\n",
    "## Reminder of Today's Learning objectives\n",
    "\n",
    "The goal of this session was to:\n",
    "* Familiarise yourself with the Jupyter notebook, which is what we'll use to interact with python\n",
    "* Learn about python's basic data types - integers, floats, strings and Booleans.\n",
    "* Explore python's general data structure objects - lists, tuples, and dictionaries.\n",
    "* Take a first look at 'pandas', python's data manipulation and analysis library.\n",
    "    * The Series and DataFrame objects.\n",
    "    * Read data into python using pandas.\n",
    "    * Get information about DataFrames.\n",
    "\n",
    "## Plan For Day 2\n",
    "\n",
    "In the next session we will continue with pandas, learning how to:\n",
    "* Select columns\n",
    "* Filter rows\n",
    "* Generate new variables\n",
    "* Describe numeric and categorical data\n",
    "* Aggregate and cross-tabulate\n",
    "* Merge"
   ]
  }
 ],
 "metadata": {
  "kernelspec": {
   "display_name": "Python 3",
   "language": "python",
   "name": "python3"
  },
  "language_info": {
   "codemirror_mode": {
    "name": "ipython",
    "version": 3
   },
   "file_extension": ".py",
   "mimetype": "text/x-python",
   "name": "python",
   "nbconvert_exporter": "python",
   "pygments_lexer": "ipython3",
   "version": "3.7.3"
  }
 },
 "nbformat": 4,
 "nbformat_minor": 2
}
